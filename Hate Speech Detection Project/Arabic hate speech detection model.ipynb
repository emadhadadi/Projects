{
 "cells": [
  {
   "cell_type": "code",
   "execution_count": 3,
   "id": "f4278143",
   "metadata": {},
   "outputs": [
    {
     "name": "stderr",
     "output_type": "stream",
     "text": [
      "[nltk_data] Downloading package stopwords to\n",
      "[nltk_data]     C:\\Users\\emhad\\AppData\\Roaming\\nltk_data...\n",
      "[nltk_data]   Package stopwords is already up-to-date!\n"
     ]
    },
    {
     "name": "stdout",
     "output_type": "stream",
     "text": [
      "0.9.1\n"
     ]
    }
   ],
   "source": [
    "import pandas as pd\n",
    "import nltk\n",
    "from nltk.corpus import stopwords\n",
    "nltk.download('stopwords')\n",
    "stop = stopwords.words('arabic')\n",
    "from nltk.stem.isri import ISRIStemmer\n",
    "from sklearn.feature_extraction.text import TfidfVectorizer\n",
    "from pyarabic.araby import strip_tashkeel \n",
    "from pyarabic.araby import strip_tatweel \n",
    "from pyarabic.araby import normalize_hamza\n",
    "import numpy as np\n",
    "import imblearn\n",
    "print(imblearn.__version__)\n",
    "import re\n",
    "from sklearn.model_selection import train_test_split\n",
    "from sklearn.ensemble import RandomForestClassifier\n",
    "from sklearn import svm \n",
    "from sklearn.naive_bayes import GaussianNB\n",
    "from sklearn.tree import DecisionTreeClassifier\n",
    "from sklearn.linear_model import LogisticRegression\n",
    "from sklearn.neighbors import KNeighborsClassifier\n",
    "from sklearn.cluster import KMeans\n",
    "from sklearn import metrics\n",
    "from sklearn.metrics import classification_report,confusion_matrix,plot_confusion_matrix\n",
    "import matplotlib as plt\n",
    "\n",
    "\n"
   ]
  },
  {
   "cell_type": "markdown",
   "id": "8716b62c",
   "metadata": {},
   "source": [
    "Arabic Hate speech Lixcon"
   ]
  },
  {
   "cell_type": "code",
   "execution_count": 8,
   "id": "6b362730",
   "metadata": {},
   "outputs": [],
   "source": [
    "\n",
    "# The Arabic Hate speech Lixcon\n",
    "#___________________________________\n",
    "Lixcon = pd.read_excel('Lixcon.xlsx' ) #|\n",
    "Lixcon = Lixcon.squeeze()                  #|\n",
    "Lixcon = list(Lixcon)                      #|\n",
    "#__________________________________#|\n"
   ]
  },
  {
   "cell_type": "code",
   "execution_count": 9,
   "id": "655e2413",
   "metadata": {},
   "outputs": [],
   "source": [
    "\n",
    "#                  __________________________________________\n",
    "#                 | Reading The Train Dataset      |\n",
    "#___________________________________________________________________________________\n",
    "train = pd.read_excel('Hate speech 20 nov.xlsx' , sheet_name =\"new_Training_data\") #|\n",
    "combi = train.copy()                                                               #|\n",
    "#__________________________________________________________________________________#|\n"
   ]
  },
  {
   "cell_type": "markdown",
   "id": "8a98cced",
   "metadata": {},
   "source": [
    "<b>preprocessing <b>"
   ]
  },
  {
   "cell_type": "code",
   "execution_count": 10,
   "id": "20787e91",
   "metadata": {},
   "outputs": [],
   "source": [
    "\n",
    "#        _____________________________________________________________\n",
    "#       | This function performs the entire preprocessing of the data\n",
    "\n",
    "\n",
    "def pre_processing(combi):\n",
    "    combi[\"Lixcon\"] = combi['text'].apply(lambda x: len([x for x in x.split() if x in Lixcon]))\n",
    "    combi['word_count']= combi['text'].apply(lambda x : len(str(x).split(' ')))\n",
    "    combi['stopwords_count'] = combi['text'].apply(lambda x: len([x for x in x.split() if x in stop]))\n",
    "    combi['text'] = combi['text'].apply(lambda x: str(strip_tashkeel(x)))\n",
    "    combi['text'] = combi['text'].apply(lambda x: str(strip_tatweel(x)))\n",
    "    combi['text'] = combi['text'].str.replace(\"[إأٱآا]\", \"ا\")\n",
    "    combi['text'] = combi['text'].str.replace(\"[ؤ]\", \"و\")\n",
    "    combi['text'] = combi['text'].str.replace('[\\d]',' ')\n",
    "    combi['text'] = combi['text'].str.replace('[^\\w\\s]',' ')\n",
    "    combi['text'] = combi['text'].str.replace('[a-zA-Z]',' ') \n",
    "    combi['text'] = combi['text'].str.replace('[_]',' ')\n",
    "    combi['text'] = combi['text'].apply(lambda x: \" \".join(x.split()))\n",
    "    combi['text'] = combi['text'].str.strip()\n",
    "    combi['text'].replace([\" \",\"\"] , np.nan, inplace=True)\n",
    "    combi.dropna(subset=['text'], inplace=True)\n",
    "    combi['text'] = combi['text'].apply(lambda x: \" \".join(x for x in x.split() if x not in stop))\n",
    "    st = ISRIStemmer()\n",
    "    combi['text'] = combi['text'].apply(lambda x: \" \".join([st.stem(word) for word in x.split()])) \n",
    "    return combi"
   ]
  },
  {
   "cell_type": "code",
   "execution_count": 11,
   "id": "22cd7934",
   "metadata": {},
   "outputs": [
    {
     "name": "stderr",
     "output_type": "stream",
     "text": [
      "C:\\Users\\emhad\\AppData\\Local\\Temp\\ipykernel_2680\\2569263154.py:11: FutureWarning: The default value of regex will change from True to False in a future version.\n",
      "  combi['text'] = combi['text'].str.replace(\"[إأٱآا]\", \"ا\")\n",
      "C:\\Users\\emhad\\AppData\\Local\\Temp\\ipykernel_2680\\2569263154.py:12: FutureWarning: The default value of regex will change from True to False in a future version.\n",
      "  combi['text'] = combi['text'].str.replace(\"[ؤ]\", \"و\")\n",
      "C:\\Users\\emhad\\AppData\\Local\\Temp\\ipykernel_2680\\2569263154.py:13: FutureWarning: The default value of regex will change from True to False in a future version.\n",
      "  combi['text'] = combi['text'].str.replace('[\\d]',' ')\n",
      "C:\\Users\\emhad\\AppData\\Local\\Temp\\ipykernel_2680\\2569263154.py:14: FutureWarning: The default value of regex will change from True to False in a future version.\n",
      "  combi['text'] = combi['text'].str.replace('[^\\w\\s]',' ')\n",
      "C:\\Users\\emhad\\AppData\\Local\\Temp\\ipykernel_2680\\2569263154.py:15: FutureWarning: The default value of regex will change from True to False in a future version.\n",
      "  combi['text'] = combi['text'].str.replace('[a-zA-Z]',' ')\n",
      "C:\\Users\\emhad\\AppData\\Local\\Temp\\ipykernel_2680\\2569263154.py:16: FutureWarning: The default value of regex will change from True to False in a future version.\n",
      "  combi['text'] = combi['text'].str.replace('[_]',' ')\n"
     ]
    }
   ],
   "source": [
    "combi = pre_processing(combi)"
   ]
  },
  {
   "cell_type": "code",
   "execution_count": 12,
   "id": "ca8d84a1",
   "metadata": {},
   "outputs": [],
   "source": [
    "\n",
    "\n",
    "#           ______________________________________________\n",
    "#          | Term Frequency–Inverse Document Frequency  (TF-IDF)  |\n",
    "\n",
    "\n",
    "tfidf_vectorizer = TfidfVectorizer(max_df=0.8,min_df=5 )\n",
    "tfidf = tfidf_vectorizer.fit_transform(combi['text'])\n",
    "\n"
   ]
  },
  {
   "cell_type": "code",
   "execution_count": 13,
   "id": "e16b9681",
   "metadata": {},
   "outputs": [],
   "source": [
    "\n",
    "#                  _________________________________________\n",
    "#                 |      This code adds basic features to TF-IDF matrix      |\n",
    "\n",
    "Basic_Featue_Extraction = combi[[ 'Lixcon' , 'word_count', 'stopwords_count']].to_numpy()\n",
    "Basic_Featue_Extraction = Basic_Featue_Extraction.astype(float)\n",
    "\n",
    "All_Features = np.concatenate((tfidf.toarray(), Basic_Featue_Extraction), axis=1)"
   ]
  },
  {
   "cell_type": "markdown",
   "id": "f9855ab7",
   "metadata": {},
   "source": [
    "<b> Model Building <b>"
   ]
  },
  {
   "cell_type": "markdown",
   "id": "59b00522",
   "metadata": {},
   "source": [
    "Random Forest <b>(best results) <b>"
   ]
  },
  {
   "cell_type": "code",
   "execution_count": 14,
   "id": "2629bf61",
   "metadata": {},
   "outputs": [
    {
     "name": "stdout",
     "output_type": "stream",
     "text": [
      "The Accuracy of Random forest is --> 0.9185558354324097\n",
      "0.9148375768217735\n",
      "0.9270462633451957\n",
      "0.902946273830156\n",
      "              precision    recall  f1-score   support\n",
      "\n",
      "           0       0.91      0.93      0.92       614\n",
      "           1       0.93      0.90      0.91       577\n",
      "\n",
      "    accuracy                           0.92      1191\n",
      "   macro avg       0.92      0.92      0.92      1191\n",
      "weighted avg       0.92      0.92      0.92      1191\n",
      "\n",
      "[[573  41]\n",
      " [ 56 521]]\n"
     ]
    },
    {
     "name": "stderr",
     "output_type": "stream",
     "text": [
      "D:\\Users\\emhad\\Anaconda3\\lib\\site-packages\\sklearn\\utils\\deprecation.py:87: FutureWarning: Function plot_confusion_matrix is deprecated; Function `plot_confusion_matrix` is deprecated in 1.0 and will be removed in 1.2. Use one of the class methods: ConfusionMatrixDisplay.from_predictions or ConfusionMatrixDisplay.from_estimator.\n",
      "  warnings.warn(msg, category=FutureWarning)\n"
     ]
    },
    {
     "data": {
      "text/plain": [
       "<sklearn.metrics._plot.confusion_matrix.ConfusionMatrixDisplay at 0x154045fceb0>"
      ]
     },
     "execution_count": 14,
     "metadata": {},
     "output_type": "execute_result"
    },
    {
     "data": {
      "image/png": "[encoded data removed]",
      "text/plain": [
       "<Figure size 432x288 with 2 Axes>"
      ]
     },
     "metadata": {
      "needs_background": "light"
     },
     "output_type": "display_data"
    }
   ],
   "source": [
    "\n",
    "#                  ______________________________________________\n",
    "#                 |                 Model Building               |\n",
    "\n",
    "\n",
    "\n",
    "#   Building the model using Random Forest algorithm\n",
    "\n",
    "\n",
    "train_tf = All_Features[0:]\n",
    "\n",
    "# splitting data into training and test set using train_test_split function\n",
    "Tr_D_bow, Te_D_bow, Tr_L_bow , Te_L_bow = train_test_split(train_tf, combi['class'], random_state=45, test_size=0.2)\n",
    "# Create Random Forest classifer object\n",
    "RF = RandomForestClassifier()\n",
    "# Train Random Forest  Classifer\n",
    "RF = RF.fit(Tr_D_bow,Tr_L_bow)\n",
    "#Predict the response for test dataset\n",
    "RF_prediction = RF.predict(Te_D_bow)\n",
    "\n",
    "\n",
    "#These codes print the results of the model\n",
    "print('The Accuracy of Random forest is -->',metrics.accuracy_score(Te_L_bow, RF_prediction))\n",
    "print(metrics.f1_score(Te_L_bow, RF_prediction))\n",
    "print(metrics.precision_score(Te_L_bow, RF_prediction))\n",
    "print(metrics.recall_score(Te_L_bow, RF_prediction))\n",
    "print(classification_report(Te_L_bow,RF_prediction))\n",
    "\n",
    "\n",
    "#This code visualize the results as a matrix\n",
    "print(confusion_matrix(Te_L_bow,RF_prediction))\n",
    "plot_confusion_matrix(RF,Te_D_bow,Te_L_bow)\n"
   ]
  },
  {
   "cell_type": "markdown",
   "id": "bb9c294c",
   "metadata": {},
   "source": [
    "SVM "
   ]
  },
  {
   "cell_type": "code",
   "execution_count": 15,
   "id": "65a65f79",
   "metadata": {},
   "outputs": [
    {
     "name": "stdout",
     "output_type": "stream",
     "text": [
      "The Accuracy of SVMC is --> 0.8597816960537363\n",
      "0.8496849684968497\n",
      "0.8838951310861424\n",
      "0.8180242634315424\n"
     ]
    }
   ],
   "source": [
    "# Building the model Using SVM algorithm\n",
    "\n",
    "\n",
    "train_tf = All_Features[0:]\n",
    "\n",
    "\n",
    "# splitting data into training and test set using train_test_split function\n",
    "Tr_D_bow, Te_D_bow, Tr_L_bow , Te_L_bow = train_test_split(train_tf, combi['class'], random_state=45, test_size=0.2)\n",
    "# Create SVM classifer object\n",
    "SVM = svm.SVC()\n",
    "# Train SVM Classifer\n",
    "SVM = SVM.fit(Tr_D_bow,Tr_L_bow)\n",
    "#Predict the response for test dataset\n",
    "SVM_prediction = SVM.predict(Te_D_bow)\n",
    "\n",
    "\n",
    "#These codes print the results of the model\n",
    "print('The Accuracy of SVMC is -->',metrics.accuracy_score(Te_L_bow, SVM_prediction))\n",
    "print(metrics.f1_score(Te_L_bow, SVM_prediction))\n",
    "print(metrics.precision_score(Te_L_bow, SVM_prediction))\n",
    "print(metrics.recall_score(Te_L_bow, SVM_prediction))"
   ]
  },
  {
   "cell_type": "markdown",
   "id": "43243712",
   "metadata": {},
   "source": [
    "Naïve Bayes"
   ]
  },
  {
   "cell_type": "code",
   "execution_count": 16,
   "id": "e91256a7",
   "metadata": {},
   "outputs": [
    {
     "name": "stdout",
     "output_type": "stream",
     "text": [
      "The Accuracy of naive bayes is --> 0.799328295549958\n",
      "0.8016597510373443\n",
      "0.7691082802547771\n",
      "0.8370883882149047\n"
     ]
    }
   ],
   "source": [
    "# Building the model Naïve Bayes algorithm\n",
    "\n",
    "\n",
    "train_tf = All_Features[0:]\n",
    "\n",
    "# splitting data into training and test set using train_test_split function\n",
    "Tr_D_bow, Te_D_bow, Tr_L_bow , Te_L_bow = train_test_split(train_tf, combi['class'], random_state=45, test_size=0.2)\n",
    "#Create Naïve Bayes Gaussian Classifier object\n",
    "Nbayes = GaussianNB()\n",
    "# Train Naïve Bayes Classifer\n",
    "Nbayes.fit(Tr_D_bow,Tr_L_bow)\n",
    "#Predict the response for test dataset\n",
    "Nbayes_prediction= Nbayes.predict(Te_D_bow)\n",
    "\n",
    "#These codes print the results of the model\n",
    "print('The Accuracy of naive bayes is -->',metrics.accuracy_score(Te_L_bow, Nbayes_prediction))\n",
    "print(metrics.f1_score(Te_L_bow, Nbayes_prediction))\n",
    "print(metrics.precision_score(Te_L_bow, Nbayes_prediction))\n",
    "print(metrics.recall_score(Te_L_bow, Nbayes_prediction))\n"
   ]
  },
  {
   "cell_type": "markdown",
   "id": "9362aaa3",
   "metadata": {},
   "source": [
    "Decision Tree"
   ]
  },
  {
   "cell_type": "code",
   "execution_count": 17,
   "id": "80773417",
   "metadata": {},
   "outputs": [
    {
     "name": "stdout",
     "output_type": "stream",
     "text": [
      "The Accuracy of Decision Tree is --> 0.8648194794290512\n",
      "0.8613264427217917\n",
      "0.8561643835616438\n",
      "0.8665511265164645\n"
     ]
    }
   ],
   "source": [
    "# Building the model Decision Tree algorithm\n",
    "\n",
    "\n",
    "train_tf = All_Features[0:]\n",
    "\n",
    "# splitting data into training and test set using train_test_split function\n",
    "Tr_D_bow, Te_D_bow, Tr_L_bow , Te_L_bow = train_test_split(train_tf, combi['class'], random_state=45, test_size=0.2)\n",
    "# Create Decision Tree classifer object\n",
    "Decision_tree = DecisionTreeClassifier()\n",
    "# Train Decision Tree Classifer\n",
    "Decision_tree = Decision_tree.fit(Tr_D_bow,Tr_L_bow)\n",
    "#Predict the response for test dataset\n",
    "Decision_tree_prediction = Decision_tree.predict(Te_D_bow)\n",
    "\n",
    "\n",
    "#These codes print the results of the model\n",
    "print('The Accuracy of Decision Tree is -->',metrics.accuracy_score(Te_L_bow, Decision_tree_prediction))\n",
    "print(metrics.f1_score(Te_L_bow, Decision_tree_prediction))\n",
    "print(metrics.precision_score(Te_L_bow, Decision_tree_prediction))\n",
    "print(metrics.recall_score(Te_L_bow, Decision_tree_prediction))"
   ]
  },
  {
   "cell_type": "markdown",
   "id": "3af0137e",
   "metadata": {},
   "source": [
    "Logistic Regression"
   ]
  },
  {
   "cell_type": "code",
   "execution_count": 19,
   "id": "a930d8ab",
   "metadata": {},
   "outputs": [
    {
     "name": "stdout",
     "output_type": "stream",
     "text": [
      "The Accuracy of Logistic Regression is --> 0.9126784214945424\n",
      "0.9071428571428573\n",
      "0.9355432780847146\n",
      "0.8804159445407279\n"
     ]
    },
    {
     "name": "stderr",
     "output_type": "stream",
     "text": [
      "D:\\Users\\emhad\\Anaconda3\\lib\\site-packages\\sklearn\\linear_model\\_logistic.py:814: ConvergenceWarning: lbfgs failed to converge (status=1):\n",
      "STOP: TOTAL NO. of ITERATIONS REACHED LIMIT.\n",
      "\n",
      "Increase the number of iterations (max_iter) or scale the data as shown in:\n",
      "    https://scikit-learn.org/stable/modules/preprocessing.html\n",
      "Please also refer to the documentation for alternative solver options:\n",
      "    https://scikit-learn.org/stable/modules/linear_model.html#logistic-regression\n",
      "  n_iter_i = _check_optimize_result(\n"
     ]
    }
   ],
   "source": [
    "# Building the model Logistic Regression algorithm\n",
    "\n",
    "\n",
    "\n",
    "train_tf = All_Features[0:]\n",
    "\n",
    "\n",
    "# splitting data into training and test set using train_test_split function\n",
    "Tr_D_bow, Te_D_bow, Tr_L_bow , Te_L_bow = train_test_split(train_tf, combi['class'], random_state=45, test_size=0.2)\n",
    "#Create Logistic Regression Classifier object\n",
    "Logregression = LogisticRegression()\n",
    "# Train Logistic Regression Classifer\n",
    "Logregression.fit(Tr_D_bow,Tr_L_bow)\n",
    "#Predict the response for test dataset\n",
    "Logregression_prediction=Logregression.predict(Te_D_bow)\n",
    "\n",
    "#These codes print the results of the model\n",
    "print('The Accuracy of Logistic Regression is -->',metrics.accuracy_score(Te_L_bow, Logregression_prediction))\n",
    "print(metrics.f1_score(Te_L_bow, Logregression_prediction))\n",
    "print(metrics.precision_score(Te_L_bow, Logregression_prediction))\n",
    "print(metrics.recall_score(Te_L_bow, Logregression_prediction))\n"
   ]
  },
  {
   "cell_type": "markdown",
   "id": "0dd28aca",
   "metadata": {},
   "source": [
    "k-nearest neighbors(KNN)"
   ]
  },
  {
   "cell_type": "code",
   "execution_count": 21,
   "id": "a2d6c33f",
   "metadata": {},
   "outputs": [
    {
     "name": "stdout",
     "output_type": "stream",
     "text": [
      "The Accuracy of KNN is --> 0.8505457598656591\n",
      "0.8438596491228071\n",
      "0.8543516873889876\n",
      "0.8336221837088388\n"
     ]
    }
   ],
   "source": [
    "# Building the model k-nearest neighbors(KNN)\n",
    "\n",
    "train_tf = All_Features[0:]\n",
    "\n",
    "# splitting data into training and test set using train_test_split function\n",
    "Tr_D_bow, Te_D_bow, Tr_L_bow , Te_L_bow = train_test_split(train_tf, combi['class'], random_state=45, test_size=0.2)\n",
    "#Create KNN Classifier object\n",
    "knn = KNeighborsClassifier(n_neighbors=5)\n",
    "# Train Knn Classifer\n",
    "knn.fit(Tr_D_bow, Tr_L_bow)\n",
    "#Predict the response for test dataset\n",
    "knn_prediction = knn.predict(Te_D_bow)\n",
    "\n",
    "\n",
    "#These codes print the results of the model\n",
    "print('The Accuracy of KNN is -->',metrics.accuracy_score(Te_L_bow, knn_prediction))\n",
    "print(metrics.f1_score(Te_L_bow, knn_prediction))\n",
    "print(metrics.precision_score(Te_L_bow, knn_prediction))\n",
    "print(metrics.recall_score(Te_L_bow, knn_prediction))\n"
   ]
  },
  {
   "cell_type": "markdown",
   "id": "a119a0f3",
   "metadata": {},
   "source": [
    " k-means cluster"
   ]
  },
  {
   "cell_type": "code",
   "execution_count": 22,
   "id": "89627a13",
   "metadata": {},
   "outputs": [
    {
     "name": "stdout",
     "output_type": "stream",
     "text": [
      "The Accuracy of KNN is --> 0.4431570109151973\n",
      "0.26441881100266196\n",
      "0.3791348600508906\n",
      "0.20299727520435967\n"
     ]
    }
   ],
   "source": [
    "# Building the model using k-means cluster\n",
    "\n",
    "\n",
    "train_tf = All_Features[0:]\n",
    "\n",
    "#Create k-means Classifier object\n",
    "kmeans = KMeans(n_clusters=2)\n",
    "# Train k-eans Classifer\n",
    "kmeans.fit(All_Features)\n",
    "#Predict the response for test dataset\n",
    "kmeans_pre = kmeans.predict(All_Features)\n",
    "\n",
    "#These codes print the results of the model\n",
    "print('The Accuracy of KNN is -->',metrics.accuracy_score(combi['class'], kmeans.labels_))\n",
    "print(metrics.f1_score(combi['class'], kmeans.labels_))\n",
    "print(metrics.precision_score(combi['class'], kmeans.labels_))\n",
    "print(metrics.recall_score(combi['class'], kmeans.labels_))\n",
    "\n"
   ]
  },
  {
   "cell_type": "markdown",
   "id": "69806d0f",
   "metadata": {},
   "source": [
    " Model Evaluation & Testing  using out of sample Data"
   ]
  },
  {
   "cell_type": "code",
   "execution_count": 23,
   "id": "28e5e01d",
   "metadata": {},
   "outputs": [],
   "source": [
    "#_____________________ Model Evaluation & Testing  using out of sample Data ____________\n",
    "\n",
    "# read the Data\n",
    "train1 = pd.read_excel('Testing.xlsx', sheet_name=\"testing 2\")\n",
    "\n",
    "combi1 = train1.copy()\n",
    "\n",
    "combi1['Tweet'] = combi1['Tweet'].astype(str)\n",
    "\n",
    "\n",
    "#        _____________________________________________________________\n",
    "#       | This function performs the entire preprocessing of the data\n",
    "\n",
    "def pre_processing1(combi1):\n",
    "    combi1['Tweet'] = combi1['Tweet'].apply(lambda x: str(strip_tashkeel(x)))\n",
    "    combi1['Tweet'] = combi1['Tweet'].apply(lambda x: str(strip_tatweel(x)))\n",
    "    combi1['Tweet'] = combi1['Tweet'].str.replace(\"[إأٱآا]\", \"ا\")\n",
    "    combi1['Tweet'] = combi1['Tweet'].str.replace(\"[ؤ]\", \"و\")\n",
    "    combi1['Tweet'] = combi1['Tweet'].apply(lambda x: \" \".join(x for x in x.split() if x not in stop))\n",
    "    combi1['Tweet'] = combi1['Tweet'].str.replace('[\\d]',' ')\n",
    "    combi1['Tweet'] = combi1['Tweet'].str.replace('[^\\w\\s]',' ')\n",
    "    combi1['Tweet'] = combi1['Tweet'].str.replace('[a-zA-Z]',' ') \n",
    "    combi1['Tweet'] = combi1['Tweet'].str.replace('[_]',' ')  \n",
    "    combi1['Tweet'] = combi1['Tweet'].apply(lambda x: \" \".join(x.split()))\n",
    "    combi1['Tweet'] = combi1['Tweet'].str.strip()\n",
    "    combi1['Tweet'].replace([\" \",\"\"] , np.nan, inplace=True)\n",
    "    combi1.dropna(subset=['Tweet'], inplace=True)\n",
    "    combi1[\"Lixcon\"] = combi1['Tweet'].apply(lambda x: len([x for x in x.split() if x in Lixcon]))\n",
    "    combi1['word_count']= combi1['Tweet'].apply(lambda x : len(str(x).split(' ')))\n",
    "    combi1['stopwords_count'] = combi1['Tweet'].apply(lambda x: len([x for x in x.split() if x in stop]))\n",
    "    combi1['Tweet'] = combi1['Tweet'].apply(lambda x: \" \".join(x for x in x.split() if x not in stop))\n",
    "    st = ISRIStemmer()\n",
    "    combi1['Tweet'] = combi1['Tweet'].apply(lambda x: \" \".join([st.stem(word) for word in x.split()])) \n",
    "    return combi1\n"
   ]
  },
  {
   "cell_type": "code",
   "execution_count": 24,
   "id": "65f6283f",
   "metadata": {},
   "outputs": [
    {
     "name": "stderr",
     "output_type": "stream",
     "text": [
      "C:\\Users\\emhad\\AppData\\Local\\Temp\\ipykernel_2680\\1568609786.py:17: FutureWarning: The default value of regex will change from True to False in a future version.\n",
      "  combi1['Tweet'] = combi1['Tweet'].str.replace(\"[إأٱآا]\", \"ا\")\n",
      "C:\\Users\\emhad\\AppData\\Local\\Temp\\ipykernel_2680\\1568609786.py:18: FutureWarning: The default value of regex will change from True to False in a future version.\n",
      "  combi1['Tweet'] = combi1['Tweet'].str.replace(\"[ؤ]\", \"و\")\n",
      "C:\\Users\\emhad\\AppData\\Local\\Temp\\ipykernel_2680\\1568609786.py:20: FutureWarning: The default value of regex will change from True to False in a future version.\n",
      "  combi1['Tweet'] = combi1['Tweet'].str.replace('[\\d]',' ')\n",
      "C:\\Users\\emhad\\AppData\\Local\\Temp\\ipykernel_2680\\1568609786.py:21: FutureWarning: The default value of regex will change from True to False in a future version.\n",
      "  combi1['Tweet'] = combi1['Tweet'].str.replace('[^\\w\\s]',' ')\n",
      "C:\\Users\\emhad\\AppData\\Local\\Temp\\ipykernel_2680\\1568609786.py:22: FutureWarning: The default value of regex will change from True to False in a future version.\n",
      "  combi1['Tweet'] = combi1['Tweet'].str.replace('[a-zA-Z]',' ')\n",
      "C:\\Users\\emhad\\AppData\\Local\\Temp\\ipykernel_2680\\1568609786.py:23: FutureWarning: The default value of regex will change from True to False in a future version.\n",
      "  combi1['Tweet'] = combi1['Tweet'].str.replace('[_]',' ')\n"
     ]
    }
   ],
   "source": [
    "combi1 = pre_processing1(combi1)"
   ]
  },
  {
   "cell_type": "code",
   "execution_count": 25,
   "id": "39dc419f",
   "metadata": {},
   "outputs": [
    {
     "name": "stdout",
     "output_type": "stream",
     "text": [
      "The Accuracy of RF is --> 0.9230769230769231\n"
     ]
    }
   ],
   "source": [
    "# TF-IDF\n",
    "tfidf1 = tfidf_vectorizer.transform(combi1['Tweet'])\n",
    "\n",
    "\n",
    "#                  _________________________________________\n",
    "#                 |      This code adds basic features to TF-IDF matrix      |\n",
    "\n",
    "Basic_Featue_Extraction1 = combi1[[ 'Lixcon' , 'word_count', 'stopwords_count']].to_numpy()\n",
    "Basic_Featue_Extraction1 = Basic_Featue_Extraction1.astype(float)\n",
    "All_Features_2 = np.concatenate((tfidf1.toarray(), Basic_Featue_Extraction1), axis=1)\n",
    "\n",
    "\n",
    "#  using Random Forest algorithm\n",
    "predict = RF.predict( All_Features_2[0:])\n",
    "predict = pd.DataFrame(predict)\n",
    "combi1['Class'] = predict\n",
    "# To reveiw results in variable explorer in pre-cleaning part tweet with predicted column\n",
    "train1['Class'] = predict\n",
    "\n",
    "print('The Accuracy of RF is -->',metrics.accuracy_score(train1['actual'], train1['Class']))\n"
   ]
  },
  {
   "cell_type": "code",
   "execution_count": null,
   "id": "79050984",
   "metadata": {},
   "outputs": [],
   "source": []
  }
 ],
 "metadata": {
  "kernelspec": {
   "display_name": "Python 3 (ipykernel)",
   "language": "python",
   "name": "python3"
  },
  "language_info": {
   "codemirror_mode": {
    "name": "ipython",
    "version": 3
   },
   "file_extension": ".py",
   "mimetype": "text/x-python",
   "name": "python",
   "nbconvert_exporter": "python",
   "pygments_lexer": "ipython3",
   "version": "3.9.12"
  }
 },
 "nbformat": 4,
 "nbformat_minor": 5
}
